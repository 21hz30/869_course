{
 "cells": [
  {
   "cell_type": "code",
   "execution_count": null,
   "metadata": {},
   "outputs": [],
   "source": [
    "pip install faker"
   ]
  },
  {
   "cell_type": "code",
   "execution_count": null,
   "metadata": {},
   "outputs": [],
   "source": [
    "import pandas as pd\n",
    "import datetime\n",
    "import random\n",
    "from faker import Faker"
   ]
  },
  {
   "cell_type": "code",
   "execution_count": null,
   "metadata": {},
   "outputs": [],
   "source": [
    "fake = Faker()\n",
    "Faker.seed(42)\n",
    "random.seed(42)"
   ]
  },
  {
   "cell_type": "code",
   "execution_count": null,
   "metadata": {},
   "outputs": [],
   "source": [
    "df = pd.read_csv(\"https://raw.githubusercontent.com/stepthom/869_course/main/data/GermanCredit.csv\")\n",
    "df.info()"
   ]
  },
  {
   "cell_type": "code",
   "execution_count": null,
   "metadata": {},
   "outputs": [],
   "source": [
    "today = datetime.date(2021, 6, 1)\n",
    "print(today)"
   ]
  },
  {
   "cell_type": "code",
   "execution_count": null,
   "metadata": {},
   "outputs": [],
   "source": [
    "dob = today - datetime.timedelta(days=40*365)\n",
    "print(dob)"
   ]
  },
  {
   "cell_type": "code",
   "execution_count": null,
   "metadata": {},
   "outputs": [],
   "source": [
    "df.head()"
   ]
  },
  {
   "cell_type": "code",
   "execution_count": null,
   "metadata": {},
   "outputs": [],
   "source": [
    "#Generate 20 random cities:\n",
    "n = 20\n",
    "cities = [fake.city() for _ in range(20)]\n",
    "print(cities)\n",
    "cities_probs = [1.0/(i+1) for i in range(20)]\n",
    "cities_probs_norm =  [float(i)/sum(cities_probs) for i in cities_probs]\n",
    "print(cities_probs_norm)\n"
   ]
  },
  {
   "cell_type": "code",
   "execution_count": null,
   "metadata": {},
   "outputs": [],
   "source": [
    "\n",
    "for i in df.index:\n",
    "    \n",
    "    # Age\n",
    "    days = df.loc[i, 'Age']*365 + (random.randrange(365*2) - 365)\n",
    "    dob = today - datetime.timedelta(days=int(days))\n",
    "    df.at[i, 'DateOfBirth'] = dob\n",
    "    \n",
    "    if df.loc[i, 'Personal.Male.Divorced.Seperated'] == 1 or df.loc[i, 'Personal.Male.Single'] == 1 or df.loc[i, 'Personal.Male.Married.Widowed'] == 1:\n",
    "        df.at[i, 'Sex'] = \"M\"\n",
    "        df.at[i, 'FirstName'] = fake.first_name_male()\n",
    "    else:\n",
    "        df.at[i, 'Sex'] = \"F\"\n",
    "        df.at[i, 'FirstName'] = fake.first_name_female()\n",
    "        \n",
    "    df.at[i, 'LastName'] = fake.last_name()\n",
    "        \n",
    "    if df.loc[i, 'Personal.Male.Married.Widowed'] == 1 or df.loc[i, 'Personal.Female.NotSingle'] == 1:\n",
    "        df.at[i, 'Married'] = int(1)\n",
    "    else:\n",
    "        df.at[i, 'Married'] = int(0)\n",
    "    \n",
    "\n",
    "    # Nonsense feature\n",
    "    df.loc[i, 'NumberPets'] = random.randrange(3)\n",
    "    \n",
    "    if df.loc[i, 'EmploymentDuration.lt.1'] == 1:\n",
    "        df.at[i, 'EmploymentDuration'] = 0\n",
    "    elif df.loc[i, 'EmploymentDuration.1.to.4'] == 1:\n",
    "        df.at[i, 'EmploymentDuration'] = 1 + random.randrange(4)\n",
    "    elif df.loc[i, 'EmploymentDuration.4.to.7'] == 1:\n",
    "        df.at[i, 'EmploymentDuration'] = 4 + random.randrange(4)\n",
    "    elif df.loc[i, 'EmploymentDuration.gt.7'] == 1:\n",
    "        df.at[i, 'EmploymentDuration'] = 7 + random.randrange(10)\n",
    "        \n",
    "    if df.loc[i, 'SavingsAccountBonds.Unknown'] == 1:\n",
    "        df.at[i, 'SavingsAccountBonds'] = random.randrange(600)\n",
    "    elif df.loc[i, 'SavingsAccountBonds.lt.100'] == 1:\n",
    "        df.at[i, 'SavingsAccountBonds'] = 0\n",
    "    elif df.loc[i, 'SavingsAccountBonds.100.to.500'] == 1:\n",
    "        df.at[i, 'SavingsAccountBonds'] = 100 + random.randrange(401)\n",
    "    elif df.loc[i, 'SavingsAccountBonds.500.to.1000'] == 1:\n",
    "        df.at[i, 'SavingsAccountBonds'] = 500 + random.randrange(501)\n",
    "    elif df.loc[i, 'SavingsAccountBonds.gt.1000'] == 1:\n",
    "        df.at[i, 'SavingsAccountBonds'] = 1000 + random.randrange(1000)\n",
    "        \n",
    "        \n",
    "    inflation = 1.8\n",
    "    \n",
    "    df.at[i, 'Amount'] = round(df.loc[i, 'Amount'] * inflation)\n",
    "    \n",
    "   \n",
    "    df.at[i, 'Street'] = fake.street_address()\n",
    "    #df.at[i, 'City'] = fake.city()\n",
    "    \n",
    "    df.at[i, \"LicensePlate\"] = fake.license_plate()\n",
    "    \n",
    "    df.at[i, 'UserID'] = fake.ssn()\n",
    "    \n",
    "df['City'] = random.choices(cities, cities_probs_norm, k=df.shape[0])"
   ]
  },
  {
   "cell_type": "code",
   "execution_count": null,
   "metadata": {},
   "outputs": [],
   "source": [
    "df = df.drop(['Age'], axis=1)\n",
    "df = df.rename(columns={'Telephone': 'OwnCar', 'Class': \"Credit\"})\n",
    "df = df[df.columns.drop(list(df.filter(regex='Personal.')))]\n",
    "df = df[df.columns.drop(list(df.filter(regex='EmploymentDuration.')))]\n",
    "df = df[df.columns.drop(list(df.filter(regex='SavingsAccountBonds.')))]"
   ]
  },
  {
   "cell_type": "code",
   "execution_count": null,
   "metadata": {},
   "outputs": [],
   "source": [
    "df['BadCredit'] = df['Credit'].apply(lambda x: 0 if x == 'Good' else 1)\n",
    "df = df.drop('Credit', axis=1)"
   ]
  },
  {
   "cell_type": "code",
   "execution_count": null,
   "metadata": {},
   "outputs": [],
   "source": [
    "front_cols = ['UserID', 'FirstName', 'LastName', 'DateOfBirth', 'Sex', 'Street', 'City', 'LicensePlate', 'Married', \"NumberPets\"]\n",
    "\n",
    "df = df[ front_cols + [ col for col in df.columns if col not in front_cols] ]\n",
    "\n",
    "last_cols = ['BadCredit']\n",
    "df = df[ [ col for col in df.columns if col not in last_cols] + last_cols ]"
   ]
  },
  {
   "cell_type": "code",
   "execution_count": null,
   "metadata": {},
   "outputs": [],
   "source": [
    "df.head()"
   ]
  },
  {
   "cell_type": "code",
   "execution_count": null,
   "metadata": {},
   "outputs": [],
   "source": [
    "df['BadCredit'].value_counts()"
   ]
  },
  {
   "cell_type": "code",
   "execution_count": null,
   "metadata": {},
   "outputs": [],
   "source": [
    "df.to_csv('generated_german.csv', index=False)"
   ]
  },
  {
   "cell_type": "code",
   "execution_count": null,
   "metadata": {},
   "outputs": [],
   "source": []
  }
 ],
 "metadata": {
  "kernelspec": {
   "display_name": "Python (bert)",
   "language": "python",
   "name": "bert"
  },
  "language_info": {
   "codemirror_mode": {
    "name": "ipython",
    "version": 3
   },
   "file_extension": ".py",
   "mimetype": "text/x-python",
   "name": "python",
   "nbconvert_exporter": "python",
   "pygments_lexer": "ipython3",
   "version": "3.6.10"
  }
 },
 "nbformat": 4,
 "nbformat_minor": 4
}
